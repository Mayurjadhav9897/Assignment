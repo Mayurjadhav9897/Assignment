{
 "cells": [
  {
   "cell_type": "code",
   "execution_count": null,
   "id": "a91036ad-a5f7-4d14-b7a1-d99f0317ff14",
   "metadata": {},
   "outputs": [],
   "source": [
    "## Tuple Data Types"
   ]
  },
  {
   "cell_type": "code",
   "execution_count": null,
   "id": "86be9e25-e76f-4220-901b-05bf6e9cec26",
   "metadata": {},
   "outputs": [],
   "source": [
    "Introduction to tuple data types"
   ]
  },
  {
   "cell_type": "code",
   "execution_count": null,
   "id": "6a2e0526-d46e-47e0-b9da-9f83a0d77cb4",
   "metadata": {},
   "outputs": [],
   "source": [
    "Defination== An immutable list is called a tuple datatype\n",
    "\n",
    "classification== it is classifies as an immutable datatype\n",
    "\n",
    "How to define the tuple== ()"
   ]
  },
  {
   "cell_type": "code",
   "execution_count": 1,
   "id": "42c6f615-91af-4ee7-ab65-6811289c46c0",
   "metadata": {},
   "outputs": [],
   "source": [
    "students= ('madhavi','ramesh','suresh','mahesh','rajesh')"
   ]
  },
  {
   "cell_type": "code",
   "execution_count": 2,
   "id": "9f9676c3-8ad4-4674-b284-f8b4783a9cb4",
   "metadata": {},
   "outputs": [
    {
     "name": "stdout",
     "output_type": "stream",
     "text": [
      "('madhavi', 'ramesh', 'suresh', 'mahesh', 'rajesh')\n"
     ]
    }
   ],
   "source": [
    "print(students)"
   ]
  },
  {
   "cell_type": "code",
   "execution_count": 3,
   "id": "b7a021f0-68be-44ec-811c-04972f9b23a4",
   "metadata": {},
   "outputs": [
    {
     "data": {
      "text/plain": [
       "tuple"
      ]
     },
     "execution_count": 3,
     "metadata": {},
     "output_type": "execute_result"
    }
   ],
   "source": [
    "type(students)"
   ]
  },
  {
   "cell_type": "code",
   "execution_count": 4,
   "id": "6696e4fd-7945-4637-8db6-9464b002f4b0",
   "metadata": {},
   "outputs": [
    {
     "name": "stdout",
     "output_type": "stream",
     "text": [
      "suresh\n"
     ]
    }
   ],
   "source": [
    "print(students[2])"
   ]
  },
  {
   "cell_type": "code",
   "execution_count": 5,
   "id": "f9d5feb3-0181-4a1b-8e24-be8dccd08f83",
   "metadata": {},
   "outputs": [
    {
     "ename": "TypeError",
     "evalue": "'tuple' object does not support item assignment",
     "output_type": "error",
     "traceback": [
      "\u001b[1;31m---------------------------------------------------------------------------\u001b[0m",
      "\u001b[1;31mTypeError\u001b[0m                                 Traceback (most recent call last)",
      "Cell \u001b[1;32mIn[5], line 1\u001b[0m\n\u001b[1;32m----> 1\u001b[0m students[\u001b[38;5;241m2\u001b[39m]\u001b[38;5;241m=\u001b[39m\u001b[38;5;124m'\u001b[39m\u001b[38;5;124mmayur\u001b[39m\u001b[38;5;124m'\u001b[39m\n",
      "\u001b[1;31mTypeError\u001b[0m: 'tuple' object does not support item assignment"
     ]
    }
   ],
   "source": [
    "students[2]='mayur'"
   ]
  },
  {
   "cell_type": "code",
   "execution_count": null,
   "id": "c4df2e9e-4c20-48a1-a4fe-2517d263f91e",
   "metadata": {},
   "outputs": [],
   "source": [
    "*** We will not able to edit or modify tuple datatype"
   ]
  },
  {
   "cell_type": "code",
   "execution_count": null,
   "id": "0b6d47e1-b3b2-4af4-839e-b7656fb0060e",
   "metadata": {},
   "outputs": [],
   "source": []
  },
  {
   "cell_type": "code",
   "execution_count": 6,
   "id": "42a78f5c-42f5-43f2-91e5-67127b2ed003",
   "metadata": {},
   "outputs": [],
   "source": [
    "Dimantions = (200,50)"
   ]
  },
  {
   "cell_type": "code",
   "execution_count": 10,
   "id": "5006249b-589e-4442-a50e-0bf2334e4130",
   "metadata": {},
   "outputs": [
    {
     "name": "stdout",
     "output_type": "stream",
     "text": [
      "('madhavi', 'ramesh', 'suresh', 'mahesh', 'rajesh')\n"
     ]
    }
   ],
   "source": [
    "print(students)"
   ]
  },
  {
   "cell_type": "code",
   "execution_count": 12,
   "id": "ceeea21f-5437-4673-9d5b-320bbd65d55d",
   "metadata": {},
   "outputs": [
    {
     "name": "stdout",
     "output_type": "stream",
     "text": [
      "madhavi\n",
      "ramesh\n",
      "suresh\n",
      "mahesh\n",
      "rajesh\n"
     ]
    }
   ],
   "source": [
    "for x in students:\n",
    "    print(x)"
   ]
  },
  {
   "cell_type": "code",
   "execution_count": null,
   "id": "800af7d7-0db8-4d47-b196-dbf933440f58",
   "metadata": {},
   "outputs": [],
   "source": [
    "## note: gap is called as indentation"
   ]
  },
  {
   "cell_type": "code",
   "execution_count": null,
   "id": "0d5e649c-defe-44c8-bd5c-c6c813ea1e8e",
   "metadata": {},
   "outputs": [],
   "source": []
  },
  {
   "cell_type": "code",
   "execution_count": null,
   "id": "74373cb6-6f26-40dc-ba0d-a14388e461fd",
   "metadata": {},
   "outputs": [],
   "source": [
    "**# Introduction to dictionary\n",
    "\n",
    "Defination- A dictionary is a combination of KEY VALUE pairs\n",
    "\n",
    "Define=={}"
   ]
  },
  {
   "cell_type": "code",
   "execution_count": null,
   "id": "86a2abe1-04b5-4563-ae13-3d66690b2cdc",
   "metadata": {},
   "outputs": [],
   "source": [
    "## Req. i want to creat aliean game"
   ]
  },
  {
   "cell_type": "code",
   "execution_count": 13,
   "id": "4dc8b564-c0b7-41e6-8a4f-8be7af30f420",
   "metadata": {},
   "outputs": [],
   "source": [
    "Aliean = {'colour':'green','points':5}"
   ]
  },
  {
   "cell_type": "code",
   "execution_count": 16,
   "id": "ae447b24-b383-4e34-a881-740b9498706f",
   "metadata": {},
   "outputs": [
    {
     "name": "stdout",
     "output_type": "stream",
     "text": [
      "green\n"
     ]
    }
   ],
   "source": [
    "print(Aliean['colour'])"
   ]
  },
  {
   "cell_type": "code",
   "execution_count": null,
   "id": "d29f6102-9c78-4624-ab86-06529260c65b",
   "metadata": {},
   "outputs": [],
   "source": []
  },
  {
   "cell_type": "code",
   "execution_count": null,
   "id": "52928758-f3f6-41e4-a38d-acf2681720b3",
   "metadata": {},
   "outputs": [],
   "source": []
  },
  {
   "cell_type": "code",
   "execution_count": null,
   "id": "d86effd7-c8fa-45df-89eb-c39b71ec4533",
   "metadata": {},
   "outputs": [],
   "source": []
  },
  {
   "cell_type": "code",
   "execution_count": null,
   "id": "729082c9-3ee1-48ea-a1c8-b285a202ac98",
   "metadata": {},
   "outputs": [],
   "source": []
  },
  {
   "cell_type": "code",
   "execution_count": null,
   "id": "b5115fad-0d71-48ed-bb61-9e7c1b4201fd",
   "metadata": {},
   "outputs": [],
   "source": []
  }
 ],
 "metadata": {
  "kernelspec": {
   "display_name": "Python 3 (ipykernel)",
   "language": "python",
   "name": "python3"
  },
  "language_info": {
   "codemirror_mode": {
    "name": "ipython",
    "version": 3
   },
   "file_extension": ".py",
   "mimetype": "text/x-python",
   "name": "python",
   "nbconvert_exporter": "python",
   "pygments_lexer": "ipython3",
   "version": "3.11.7"
  }
 },
 "nbformat": 4,
 "nbformat_minor": 5
}
