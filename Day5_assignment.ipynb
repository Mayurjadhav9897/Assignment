{
 "cells": [
  {
   "cell_type": "code",
   "execution_count": 1,
   "id": "2d6c00ff-108d-4f03-8b91-67557ce07a6e",
   "metadata": {},
   "outputs": [],
   "source": [
    "student=['mayur','tushar','mahul','amit']"
   ]
  },
  {
   "cell_type": "code",
   "execution_count": 2,
   "id": "ba7287a2-4006-4b13-80c0-c719123aabe7",
   "metadata": {},
   "outputs": [
    {
     "name": "stdout",
     "output_type": "stream",
     "text": [
      "['mayur', 'tushar', 'mahul', 'amit']\n"
     ]
    }
   ],
   "source": [
    "print(student)"
   ]
  },
  {
   "cell_type": "code",
   "execution_count": null,
   "id": "40f287e9-2430-4ddf-bc3f-8100b2f3d0db",
   "metadata": {},
   "outputs": [],
   "source": [
    "# organising lis data types"
   ]
  },
  {
   "cell_type": "code",
   "execution_count": 3,
   "id": "0cd5ee67-f7d2-4cc0-ae38-c4ba4a7af14b",
   "metadata": {},
   "outputs": [
    {
     "name": "stdout",
     "output_type": "stream",
     "text": [
      "['amit', 'mahul', 'mayur', 'tushar']\n"
     ]
    }
   ],
   "source": [
    "print(sorted(student))"
   ]
  },
  {
   "cell_type": "code",
   "execution_count": 4,
   "id": "ebe1a377-572b-4559-9745-57049943fa5f",
   "metadata": {},
   "outputs": [
    {
     "name": "stdout",
     "output_type": "stream",
     "text": [
      "['mayur', 'tushar', 'mahul', 'amit']\n"
     ]
    }
   ],
   "source": [
    "print(student)"
   ]
  },
  {
   "cell_type": "code",
   "execution_count": 6,
   "id": "1d746048-ae22-4021-841c-d51fc83392d9",
   "metadata": {},
   "outputs": [],
   "source": [
    "student.sort()"
   ]
  },
  {
   "cell_type": "code",
   "execution_count": 7,
   "id": "d47d9b4b-9b6c-455b-bcbc-b585f87654e6",
   "metadata": {},
   "outputs": [
    {
     "name": "stdout",
     "output_type": "stream",
     "text": [
      "['amit', 'mahul', 'mayur', 'tushar']\n"
     ]
    }
   ],
   "source": [
    "print(student)"
   ]
  },
  {
   "cell_type": "code",
   "execution_count": 8,
   "id": "79d9ba8d-d58e-4e25-8ce8-66fd8e042592",
   "metadata": {},
   "outputs": [
    {
     "name": "stdout",
     "output_type": "stream",
     "text": [
      "['amit', 'mahul', 'mayur', 'tushar']\n"
     ]
    }
   ],
   "source": [
    "print(student)"
   ]
  },
  {
   "cell_type": "code",
   "execution_count": 9,
   "id": "201dca60-44a2-4ed3-8616-bd9b944d47c1",
   "metadata": {},
   "outputs": [
    {
     "data": {
      "text/plain": [
       "list"
      ]
     },
     "execution_count": 9,
     "metadata": {},
     "output_type": "execute_result"
    }
   ],
   "source": [
    "type(student)"
   ]
  },
  {
   "cell_type": "code",
   "execution_count": 10,
   "id": "34c3f2ba-42f1-42c5-bfad-458955a37116",
   "metadata": {},
   "outputs": [
    {
     "data": {
      "text/plain": [
       "4"
      ]
     },
     "execution_count": 10,
     "metadata": {},
     "output_type": "execute_result"
    }
   ],
   "source": [
    "len(student)"
   ]
  },
  {
   "cell_type": "code",
   "execution_count": 11,
   "id": "93132a35-6ae2-4367-90af-eb64d91d7aca",
   "metadata": {},
   "outputs": [
    {
     "name": "stdout",
     "output_type": "stream",
     "text": [
      "['amit', 'mahul', 'mayur', 'tushar']\n"
     ]
    }
   ],
   "source": [
    "print(student)"
   ]
  },
  {
   "cell_type": "code",
   "execution_count": null,
   "id": "cde7558c-1354-472b-9574-af1df6c2014b",
   "metadata": {},
   "outputs": [],
   "source": []
  },
  {
   "cell_type": "code",
   "execution_count": 14,
   "id": "3b60a676-ff78-459f-9765-48f86d4731ad",
   "metadata": {},
   "outputs": [],
   "source": [
    "student.reverse()"
   ]
  },
  {
   "cell_type": "code",
   "execution_count": 15,
   "id": "9d8a001e-4ad9-4340-811f-2da8363fd4d6",
   "metadata": {},
   "outputs": [
    {
     "name": "stdout",
     "output_type": "stream",
     "text": [
      "['tushar', 'mayur', 'mahul', 'amit']\n"
     ]
    }
   ],
   "source": [
    "print(student)"
   ]
  },
  {
   "cell_type": "code",
   "execution_count": 17,
   "id": "7f00604b-4f87-411d-b3cc-34d40b7f7307",
   "metadata": {},
   "outputs": [],
   "source": [
    "student.reverse()"
   ]
  },
  {
   "cell_type": "code",
   "execution_count": 18,
   "id": "7b989a08-47de-4ed8-b4b4-e8675921882d",
   "metadata": {},
   "outputs": [],
   "source": [
    "cars=' innova'"
   ]
  },
  {
   "cell_type": "code",
   "execution_count": 19,
   "id": "9b26674d-ff9c-405d-802b-4b9edd3cb890",
   "metadata": {},
   "outputs": [
    {
     "name": "stdout",
     "output_type": "stream",
     "text": [
      " innova\n"
     ]
    }
   ],
   "source": [
    "print(cars)"
   ]
  },
  {
   "cell_type": "code",
   "execution_count": 20,
   "id": "be02cb6a-2eec-42fd-afab-c2e4148f751f",
   "metadata": {},
   "outputs": [
    {
     "name": "stdout",
     "output_type": "stream",
     "text": [
      "innova\n"
     ]
    }
   ],
   "source": [
    "print(cars.lstrip())"
   ]
  },
  {
   "cell_type": "code",
   "execution_count": 21,
   "id": "2e13bde8-267f-4642-86f4-4bc02b6042a7",
   "metadata": {},
   "outputs": [],
   "source": [
    "cars='innova '"
   ]
  },
  {
   "cell_type": "code",
   "execution_count": 22,
   "id": "4ce29124-35a4-4765-a964-8e3fb114129b",
   "metadata": {},
   "outputs": [
    {
     "name": "stdout",
     "output_type": "stream",
     "text": [
      "innova \n"
     ]
    }
   ],
   "source": [
    "print(cars)"
   ]
  },
  {
   "cell_type": "code",
   "execution_count": 23,
   "id": "a32b77a0-cb5d-40de-a6de-cf8362e96b2d",
   "metadata": {},
   "outputs": [
    {
     "name": "stdout",
     "output_type": "stream",
     "text": [
      "innova\n"
     ]
    }
   ],
   "source": [
    "print(cars.rstrip())"
   ]
  },
  {
   "cell_type": "code",
   "execution_count": 24,
   "id": "30f63c54-c502-4ef5-9d57-1c02debeb92b",
   "metadata": {},
   "outputs": [],
   "source": [
    "cars='  innova '"
   ]
  },
  {
   "cell_type": "code",
   "execution_count": 25,
   "id": "addb24d0-b5da-4d1e-8b97-114782df6509",
   "metadata": {},
   "outputs": [
    {
     "name": "stdout",
     "output_type": "stream",
     "text": [
      "  innova \n"
     ]
    }
   ],
   "source": [
    "print(cars)"
   ]
  },
  {
   "cell_type": "code",
   "execution_count": 28,
   "id": "e41e72f8-d236-42e7-9ef9-675366a63159",
   "metadata": {},
   "outputs": [
    {
     "name": "stdout",
     "output_type": "stream",
     "text": [
      "innova\n"
     ]
    }
   ],
   "source": [
    "print(cars.strip())"
   ]
  },
  {
   "cell_type": "code",
   "execution_count": null,
   "id": "5371e947-8db0-4b54-a9e8-2094968b4650",
   "metadata": {},
   "outputs": [],
   "source": []
  }
 ],
 "metadata": {
  "kernelspec": {
   "display_name": "Python 3 (ipykernel)",
   "language": "python",
   "name": "python3"
  },
  "language_info": {
   "codemirror_mode": {
    "name": "ipython",
    "version": 3
   },
   "file_extension": ".py",
   "mimetype": "text/x-python",
   "name": "python",
   "nbconvert_exporter": "python",
   "pygments_lexer": "ipython3",
   "version": "3.11.7"
  }
 },
 "nbformat": 4,
 "nbformat_minor": 5
}
