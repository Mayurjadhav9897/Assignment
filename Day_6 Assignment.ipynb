{
 "cells": [
  {
   "cell_type": "code",
   "execution_count": null,
   "id": "239880a2-8c22-491f-a9a7-6c6db373be8c",
   "metadata": {},
   "outputs": [],
   "source": [
    "## contribution with list data types\n",
    "\n",
    "## Slicing the list\n",
    "General syntax of slicing\n",
    "## [start value:stop value:step value]"
   ]
  },
  {
   "cell_type": "code",
   "execution_count": 4,
   "id": "3c338631-d584-4602-afb3-d44c8bc5fead",
   "metadata": {},
   "outputs": [],
   "source": [
    "students=['nitin','mahesh','ramesh','ravindra','rahul','amar','mansi','tejal']"
   ]
  },
  {
   "cell_type": "code",
   "execution_count": 5,
   "id": "e7f5629a-c7c2-44c7-a91d-c9e48c7e1653",
   "metadata": {},
   "outputs": [
    {
     "name": "stdout",
     "output_type": "stream",
     "text": [
      "['nitin', 'mahesh', 'ramesh', 'ravindra', 'rahul', 'amar', 'mansi', 'tejal']\n"
     ]
    }
   ],
   "source": [
    "print(students)"
   ]
  },
  {
   "cell_type": "code",
   "execution_count": null,
   "id": "2e0b0b07-ddcb-4e4f-8ad8-0c8413c50678",
   "metadata": {},
   "outputs": [],
   "source": [
    "## (Stop value is always exclusive to include to stop value, we have to increment the number by+1)"
   ]
  },
  {
   "cell_type": "code",
   "execution_count": 8,
   "id": "8e6f0e04-cd52-4b62-ae8b-28b5610c7e06",
   "metadata": {},
   "outputs": [
    {
     "name": "stdout",
     "output_type": "stream",
     "text": [
      "['nitin', 'mahesh', 'ramesh', 'ravindra', 'rahul', 'amar', 'mansi', 'tejal']\n"
     ]
    }
   ],
   "source": [
    "print(students)"
   ]
  },
  {
   "cell_type": "code",
   "execution_count": 9,
   "id": "a1927bfc-ea49-4f64-ad57-3074315f5cb8",
   "metadata": {},
   "outputs": [
    {
     "name": "stdout",
     "output_type": "stream",
     "text": [
      "['nitin']\n"
     ]
    }
   ],
   "source": [
    "print(students[0:1])"
   ]
  },
  {
   "cell_type": "code",
   "execution_count": 11,
   "id": "f473a15a-fe28-41de-9bba-e1d806dee418",
   "metadata": {},
   "outputs": [
    {
     "name": "stdout",
     "output_type": "stream",
     "text": [
      "['nitin', 'mahesh', 'ramesh', 'ravindra', 'rahul', 'amar']\n"
     ]
    }
   ],
   "source": [
    "print(students[0:6])"
   ]
  },
  {
   "cell_type": "code",
   "execution_count": 14,
   "id": "84eece02-09e9-49ef-b525-78fa358c8297",
   "metadata": {},
   "outputs": [
    {
     "name": "stdout",
     "output_type": "stream",
     "text": [
      "['ravindra', 'rahul']\n"
     ]
    }
   ],
   "source": [
    "print(students[3:5])"
   ]
  },
  {
   "cell_type": "code",
   "execution_count": null,
   "id": "55010dc2-4765-4b58-97a1-3c5eb3bec2cd",
   "metadata": {},
   "outputs": [],
   "source": [
    "## step count"
   ]
  },
  {
   "cell_type": "code",
   "execution_count": 15,
   "id": "7d54247c-51f1-4ec3-a839-2e0af19aa987",
   "metadata": {},
   "outputs": [
    {
     "name": "stdout",
     "output_type": "stream",
     "text": [
      "['nitin', 'ramesh', 'rahul', 'mansi']\n"
     ]
    }
   ],
   "source": [
    "print(students[0:8:2])"
   ]
  },
  {
   "cell_type": "code",
   "execution_count": null,
   "id": "dda58864-b53d-45f5-ba30-45c27f391f5d",
   "metadata": {},
   "outputs": [],
   "source": []
  },
  {
   "cell_type": "code",
   "execution_count": null,
   "id": "e36b36e1-b7fd-44df-bfcd-d4c4246f51c9",
   "metadata": {},
   "outputs": [],
   "source": [
    "## tempvar"
   ]
  },
  {
   "cell_type": "code",
   "execution_count": 16,
   "id": "6c6ee0d9-d5f5-448a-b9a4-5358d9dc5854",
   "metadata": {},
   "outputs": [
    {
     "name": "stdout",
     "output_type": "stream",
     "text": [
      "['nitin', 'mahesh', 'ramesh', 'ravindra', 'rahul', 'amar', 'mansi', 'tejal']\n"
     ]
    }
   ],
   "source": [
    "print(students)"
   ]
  },
  {
   "cell_type": "code",
   "execution_count": 21,
   "id": "4e58c99c-720c-4176-8c5f-04c3c0db21e5",
   "metadata": {},
   "outputs": [],
   "source": [
    "massage=f\" Keep the good work,{students[2].title()}\""
   ]
  },
  {
   "cell_type": "code",
   "execution_count": 22,
   "id": "fdf36b2c-498d-4ae9-8f45-5552fbb6022f",
   "metadata": {},
   "outputs": [
    {
     "name": "stdout",
     "output_type": "stream",
     "text": [
      " Keep the good work,Ramesh\n"
     ]
    }
   ],
   "source": [
    "print(massage)"
   ]
  },
  {
   "cell_type": "code",
   "execution_count": 30,
   "id": "9b6bd9b9-d336-4587-978b-e91718b464ac",
   "metadata": {},
   "outputs": [
    {
     "name": "stdout",
     "output_type": "stream",
     "text": [
      " keep up the work,nitin\n",
      " keep up the work,mahesh\n",
      " keep up the work,ramesh\n",
      " keep up the work,ravindra\n",
      " keep up the work,rahul\n",
      " keep up the work,amar\n",
      " keep up the work,mansi\n",
      " keep up the work,tejal\n"
     ]
    }
   ],
   "source": [
    "for x in students:\n",
    "    print(f\" keep up the work,{x}\")"
   ]
  },
  {
   "cell_type": "code",
   "execution_count": 31,
   "id": "83b140ee-4b9d-441c-9011-5b6b6e02c1a0",
   "metadata": {},
   "outputs": [
    {
     "name": "stdout",
     "output_type": "stream",
     "text": [
      " keep up the work,nitin\n",
      "\n",
      " keep up the work,mahesh\n",
      "\n",
      " keep up the work,ramesh\n",
      "\n",
      " keep up the work,ravindra\n",
      "\n",
      " keep up the work,rahul\n",
      "\n",
      " keep up the work,amar\n",
      "\n",
      " keep up the work,mansi\n",
      "\n",
      " keep up the work,tejal\n",
      "\n"
     ]
    }
   ],
   "source": [
    "for x in students:\n",
    "    print(f\" keep up the work,{x}\\n\")"
   ]
  },
  {
   "cell_type": "code",
   "execution_count": null,
   "id": "93391b76-b92c-4500-9c82-d049155ac006",
   "metadata": {},
   "outputs": [],
   "source": []
  },
  {
   "cell_type": "code",
   "execution_count": null,
   "id": "2d1c540b-b380-4ccf-a49b-a7ba94f23e74",
   "metadata": {},
   "outputs": [],
   "source": []
  }
 ],
 "metadata": {
  "kernelspec": {
   "display_name": "Python 3 (ipykernel)",
   "language": "python",
   "name": "python3"
  },
  "language_info": {
   "codemirror_mode": {
    "name": "ipython",
    "version": 3
   },
   "file_extension": ".py",
   "mimetype": "text/x-python",
   "name": "python",
   "nbconvert_exporter": "python",
   "pygments_lexer": "ipython3",
   "version": "3.11.7"
  }
 },
 "nbformat": 4,
 "nbformat_minor": 5
}
