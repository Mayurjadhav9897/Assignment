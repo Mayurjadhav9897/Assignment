{
 "cells": [
  {
   "cell_type": "code",
   "execution_count": 1,
   "id": "902a3aa9-da7f-4f61-9c20-27287563ba5f",
   "metadata": {},
   "outputs": [],
   "source": [
    "city=['bhopal','solapur','kolhapur','mumbai','pune']"
   ]
  },
  {
   "cell_type": "code",
   "execution_count": 2,
   "id": "f0eaa28e-041a-4c7a-89da-a3c018dbca68",
   "metadata": {},
   "outputs": [
    {
     "name": "stdout",
     "output_type": "stream",
     "text": [
      "['bhopal', 'solapur', 'kolhapur', 'mumbai', 'pune']\n"
     ]
    }
   ],
   "source": [
    "print(city)"
   ]
  },
  {
   "cell_type": "code",
   "execution_count": 4,
   "id": "635e7b32-4bf0-4ff3-96ec-f8b1e29d17a4",
   "metadata": {},
   "outputs": [
    {
     "data": {
      "text/plain": [
       "list"
      ]
     },
     "execution_count": 4,
     "metadata": {},
     "output_type": "execute_result"
    }
   ],
   "source": [
    "type(city)"
   ]
  },
  {
   "cell_type": "code",
   "execution_count": 5,
   "id": "c51c518b-f9c0-4479-8a6a-835a4ef78900",
   "metadata": {},
   "outputs": [],
   "source": [
    "city.append('ujjain')"
   ]
  },
  {
   "cell_type": "code",
   "execution_count": 6,
   "id": "d641f64a-13b5-4627-abe0-c397726a0d90",
   "metadata": {},
   "outputs": [
    {
     "name": "stdout",
     "output_type": "stream",
     "text": [
      "['bhopal', 'solapur', 'kolhapur', 'mumbai', 'pune', 'ujjain']\n"
     ]
    }
   ],
   "source": [
    "print(city)"
   ]
  },
  {
   "cell_type": "code",
   "execution_count": 11,
   "id": "7cf1d792-3022-45c4-bf16-e904b3885c19",
   "metadata": {},
   "outputs": [],
   "source": [
    "city.insert(3,'madhurai')"
   ]
  },
  {
   "cell_type": "code",
   "execution_count": 12,
   "id": "3bfcec43-1fd7-44a0-8ef2-5a23bc4e5975",
   "metadata": {},
   "outputs": [
    {
     "name": "stdout",
     "output_type": "stream",
     "text": [
      "['bhopal', 'solapur', 'kolhapur', 'madhurai', 'mumbai', 'pune', 'ujjain']\n"
     ]
    }
   ],
   "source": [
    "print(city)"
   ]
  },
  {
   "cell_type": "code",
   "execution_count": 15,
   "id": "74d82881-a05e-4906-8d12-e1a9ceee2c19",
   "metadata": {},
   "outputs": [],
   "source": [
    "del city[0]"
   ]
  },
  {
   "cell_type": "code",
   "execution_count": 16,
   "id": "65e3e1e1-f4ba-46e5-9c12-d0cfa5cf890c",
   "metadata": {},
   "outputs": [
    {
     "name": "stdout",
     "output_type": "stream",
     "text": [
      "['solapur', 'kolhapur', 'madhurai', 'mumbai', 'pune', 'ujjain']\n"
     ]
    }
   ],
   "source": [
    "print(city)"
   ]
  },
  {
   "cell_type": "code",
   "execution_count": null,
   "id": "bdbf6919-74a9-43f6-81e6-aa8601730912",
   "metadata": {},
   "outputs": [],
   "source": [
    "# Pop method"
   ]
  },
  {
   "cell_type": "code",
   "execution_count": 18,
   "id": "0a09af58-f954-462e-ac04-183c71212528",
   "metadata": {},
   "outputs": [],
   "source": [
    "A=city.pop()"
   ]
  },
  {
   "cell_type": "code",
   "execution_count": 19,
   "id": "17127d81-4a64-47e0-a6b2-4638a32ffbf3",
   "metadata": {},
   "outputs": [
    {
     "name": "stdout",
     "output_type": "stream",
     "text": [
      "['solapur', 'kolhapur', 'madhurai', 'mumbai', 'pune']\n"
     ]
    }
   ],
   "source": [
    "print(city)"
   ]
  },
  {
   "cell_type": "code",
   "execution_count": 20,
   "id": "611767dd-0b4e-434f-903f-ca4acc8a02a3",
   "metadata": {},
   "outputs": [
    {
     "name": "stdout",
     "output_type": "stream",
     "text": [
      "ujjain\n"
     ]
    }
   ],
   "source": [
    "print(A)"
   ]
  },
  {
   "cell_type": "code",
   "execution_count": 21,
   "id": "5d9fe20b-1d26-45b2-bfc1-49096011747b",
   "metadata": {},
   "outputs": [],
   "source": [
    "A=city.pop(0)"
   ]
  },
  {
   "cell_type": "code",
   "execution_count": 22,
   "id": "cad59fd5-ea3c-4710-ab17-a85df2c615c1",
   "metadata": {},
   "outputs": [
    {
     "name": "stdout",
     "output_type": "stream",
     "text": [
      "solapur\n"
     ]
    }
   ],
   "source": [
    "print(A)"
   ]
  },
  {
   "cell_type": "code",
   "execution_count": null,
   "id": "48f8e24d-4041-4eb3-bd13-5b8453486b04",
   "metadata": {},
   "outputs": [],
   "source": []
  },
  {
   "cell_type": "code",
   "execution_count": null,
   "id": "e192e715-d6f0-4250-8416-982e2524041e",
   "metadata": {},
   "outputs": [],
   "source": []
  },
  {
   "cell_type": "code",
   "execution_count": null,
   "id": "adb5e861-c61d-4115-8a1f-4676473a8992",
   "metadata": {},
   "outputs": [],
   "source": []
  },
  {
   "cell_type": "code",
   "execution_count": null,
   "id": "887b5251-fa52-4de8-bf89-04f981a04c92",
   "metadata": {},
   "outputs": [],
   "source": []
  }
 ],
 "metadata": {
  "kernelspec": {
   "display_name": "Python 3 (ipykernel)",
   "language": "python",
   "name": "python3"
  },
  "language_info": {
   "codemirror_mode": {
    "name": "ipython",
    "version": 3
   },
   "file_extension": ".py",
   "mimetype": "text/x-python",
   "name": "python",
   "nbconvert_exporter": "python",
   "pygments_lexer": "ipython3",
   "version": "3.11.7"
  }
 },
 "nbformat": 4,
 "nbformat_minor": 5
}
